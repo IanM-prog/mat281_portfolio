{
  "nbformat": 4,
  "nbformat_minor": 0,
  "metadata": {
    "colab": {
      "name": "Lab1.ipynb",
      "provenance": []
    },
    "kernelspec": {
      "name": "python3",
      "display_name": "Python 3"
    }
  },
  "cells": [
    {
      "cell_type": "code",
      "metadata": {
        "id": "OkJFsSohWbcG",
        "colab_type": "code",
        "colab": {}
      },
      "source": [
        "def calcular_pi(n:int) -> float:\n",
        "    \n",
        "    \"\"\"\n",
        "    Aproximacion del valor de pi mediante el método de Leibniz\n",
        "\n",
        "    Parameters\n",
        "    ----------\n",
        "    n : int\n",
        "        Numero de terminos en la sumatoria.\n",
        "\n",
        "    Returns\n",
        "    -------\n",
        "    output : float\n",
        "        Valor aproximado de pi.\n",
        "        \n",
        "    Examples\n",
        "    --------\n",
        "    >>> calcular_pi(3)\n",
        "    3.466666666666667\n",
        "    \n",
        "    >>> calcular_pi(1000) \n",
        "    3.140592653839794\n",
        "    \"\"\"\n",
        "  \n",
        "    pi = 0  # Se inicializa la suma parcial\n",
        "    for k in range(1, (n+1)):\n",
        "        numerador = (-1)**(k+1)\n",
        "        denominador = 2*k-1\n",
        "        pi += (numerador/denominador) # Agregar numerador/denominador a la suma total\n",
        "    pi = 4 * pi  # Se ajusta al valor real\n",
        "    return pi\n",
        "\n",
        "\n",
        "calcular_pi(1000)\n",
        "\n"
      ],
      "execution_count": null,
      "outputs": []
    },
    {
      "cell_type": "code",
      "metadata": {
        "id": "5pd34FFMZJYe",
        "colab_type": "code",
        "colab": {}
      },
      "source": [
        "def collatz(n:int) -> list:\n",
        "    if n <= 0:\n",
        "        raise Exception(\"Input n must be greater or equal than 1.\")\n",
        "    elif n == 1:\n",
        "        return [1]\n",
        "    else:\n",
        "        value = n  # Instanciar valor inicial que se usa como variable auxiliar y sobrescribirla.\n",
        "        collatz_list = [value]  # Instanciar lista con el primer elemento\n",
        "        while collatz_list[-1]!=1:  # Cuando parar?\n",
        "            if collatz_list[-1]%2==0:  # Primera condicion\n",
        "                value = collatz_list[-1]/2\n",
        "            else:\n",
        "                value = collatz_list[-1]*3+1\n",
        "            collatz_list.append(value)\n",
        "        return collatz_list\n",
        "\n",
        "collatz(9)\n"
      ],
      "execution_count": null,
      "outputs": []
    },
    {
      "cell_type": "code",
      "metadata": {
        "id": "qtd5z8l_aawh",
        "colab_type": "code",
        "colab": {}
      },
      "source": [
        "def divisores(n) -> list:\n",
        "    divisors = [] \n",
        "    # No es necesario ser eficiente, basta con una búsqueda exhaustiva.\n",
        "    for i in range(1, n):\n",
        "        if n%i==0:  # Tip: Usar operación módulo\n",
        "            divisors.append(i)\n",
        "    return divisors\n",
        "\n",
        "\n",
        "def sigma(n:int) -> int:\n",
        "    divisors = divisores(n)\n",
        "    suma = 0\n",
        "    for x in divisors:\n",
        "        suma+=x\n",
        "    return suma\n",
        "        \n",
        "    \n",
        "def amigos(n:int, m:int) -> bool:\n",
        "    sigma_n = sigma(n)\n",
        "    sigma_m = sigma(m)\n",
        "    if sigma_n==m and sigma_m==n:\n",
        "        return True\n",
        "    else:\n",
        "        return False"
      ],
      "execution_count": 69,
      "outputs": []
    },
    {
      "cell_type": "code",
      "metadata": {
        "id": "zZdHz1AfcyTf",
        "colab_type": "code",
        "colab": {}
      },
      "source": [
        "n, m = 220, 284\n",
        "print(f\"Los divisores de {n} son {divisores(n)}, por ende sigma({n}) es {sigma(n)}\")\n",
        "print(f\"Los divisores de {m} son {divisores(m)}, por ende sigma({m}) es {sigma(m)}\")\n",
        "print(f\"¿220 y 284 son números amigos?: {amigos(n, m)}\")"
      ],
      "execution_count": null,
      "outputs": []
    }
  ]
}