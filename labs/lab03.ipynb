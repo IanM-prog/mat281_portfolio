{
 "cells": [
  {
   "cell_type": "markdown",
   "metadata": {},
   "source": [
    "# Laboratorio 3"
   ]
  },
  {
   "cell_type": "markdown",
   "metadata": {},
   "source": [
    "En este laboratorio nuevamente utilizaremos los datos de COVID-19 disponibilizados por el Ministerio de Ciencias, Tecnología, Conocimiento e Innovación de Chile ([info](https://github.com/MinCiencia/Datos-COVID19/tree/master/output/producto1))."
   ]
  },
  {
   "cell_type": "code",
   "execution_count": 3,
   "metadata": {},
   "outputs": [
    {
     "data": {
      "text/html": [
       "<div>\n",
       "<style scoped>\n",
       "    .dataframe tbody tr th:only-of-type {\n",
       "        vertical-align: middle;\n",
       "    }\n",
       "\n",
       "    .dataframe tbody tr th {\n",
       "        vertical-align: top;\n",
       "    }\n",
       "\n",
       "    .dataframe thead th {\n",
       "        text-align: right;\n",
       "    }\n",
       "</style>\n",
       "<table border=\"1\" class=\"dataframe\">\n",
       "  <thead>\n",
       "    <tr style=\"text-align: right;\">\n",
       "      <th></th>\n",
       "      <th>Region</th>\n",
       "      <th>Codigo region</th>\n",
       "      <th>Comuna</th>\n",
       "      <th>Codigo comuna</th>\n",
       "      <th>Poblacion</th>\n",
       "      <th>Fecha</th>\n",
       "      <th>Casos confirmados</th>\n",
       "    </tr>\n",
       "  </thead>\n",
       "  <tbody>\n",
       "    <tr>\n",
       "      <th>0</th>\n",
       "      <td>Arica y Parinacota</td>\n",
       "      <td>15</td>\n",
       "      <td>Arica</td>\n",
       "      <td>15101.0</td>\n",
       "      <td>247552.0</td>\n",
       "      <td>2020-03-30</td>\n",
       "      <td>6.0</td>\n",
       "    </tr>\n",
       "    <tr>\n",
       "      <th>1</th>\n",
       "      <td>Arica y Parinacota</td>\n",
       "      <td>15</td>\n",
       "      <td>Camarones</td>\n",
       "      <td>15102.0</td>\n",
       "      <td>1233.0</td>\n",
       "      <td>2020-03-30</td>\n",
       "      <td>0.0</td>\n",
       "    </tr>\n",
       "    <tr>\n",
       "      <th>2</th>\n",
       "      <td>Arica y Parinacota</td>\n",
       "      <td>15</td>\n",
       "      <td>General Lagos</td>\n",
       "      <td>15202.0</td>\n",
       "      <td>810.0</td>\n",
       "      <td>2020-03-30</td>\n",
       "      <td>0.0</td>\n",
       "    </tr>\n",
       "    <tr>\n",
       "      <th>3</th>\n",
       "      <td>Arica y Parinacota</td>\n",
       "      <td>15</td>\n",
       "      <td>Putre</td>\n",
       "      <td>15201.0</td>\n",
       "      <td>2515.0</td>\n",
       "      <td>2020-03-30</td>\n",
       "      <td>0.0</td>\n",
       "    </tr>\n",
       "    <tr>\n",
       "      <th>4</th>\n",
       "      <td>Arica y Parinacota</td>\n",
       "      <td>15</td>\n",
       "      <td>Desconocido Arica y Parinacota</td>\n",
       "      <td>NaN</td>\n",
       "      <td>NaN</td>\n",
       "      <td>2020-03-30</td>\n",
       "      <td>NaN</td>\n",
       "    </tr>\n",
       "  </tbody>\n",
       "</table>\n",
       "</div>"
      ],
      "text/plain": [
       "               Region  Codigo region                          Comuna  \\\n",
       "0  Arica y Parinacota             15                           Arica   \n",
       "1  Arica y Parinacota             15                       Camarones   \n",
       "2  Arica y Parinacota             15                   General Lagos   \n",
       "3  Arica y Parinacota             15                           Putre   \n",
       "4  Arica y Parinacota             15  Desconocido Arica y Parinacota   \n",
       "\n",
       "   Codigo comuna  Poblacion       Fecha  Casos confirmados  \n",
       "0        15101.0   247552.0  2020-03-30                6.0  \n",
       "1        15102.0     1233.0  2020-03-30                0.0  \n",
       "2        15202.0      810.0  2020-03-30                0.0  \n",
       "3        15201.0     2515.0  2020-03-30                0.0  \n",
       "4            NaN        NaN  2020-03-30                NaN  "
      ]
     },
     "execution_count": 3,
     "metadata": {},
     "output_type": "execute_result"
    }
   ],
   "source": [
    "import pandas as pd\n",
    "\n",
    "covid = pd.read_csv(\"https://raw.githubusercontent.com/MinCiencia/Datos-COVID19/master/output/producto1/Covid-19_std.csv\")\n",
    "covid.head()"
   ]
  },
  {
   "cell_type": "markdown",
   "metadata": {},
   "source": [
    "## Ejercicio 1\n",
    "\n",
    "(1 pto)\n",
    "\n",
    "¿Cuál es la región que tiene menos registros (filas)?"
   ]
  },
  {
   "cell_type": "code",
   "execution_count": 185,
   "metadata": {},
   "outputs": [
    {
     "data": {
      "text/plain": [
       "'Arica y Parinacota'"
      ]
     },
     "execution_count": 185,
     "metadata": {},
     "output_type": "execute_result"
    }
   ],
   "source": [
    "dp=covid.pivot_table(index=['Region'], aggfunc='size')\n",
    "dp.idxmin()"
   ]
  },
  {
   "cell_type": "code",
   "execution_count": 87,
   "metadata": {},
   "outputs": [
    {
     "data": {
      "text/plain": [
       "'Arica y Parinacota'"
      ]
     },
     "execution_count": 87,
     "metadata": {},
     "output_type": "execute_result"
    }
   ],
   "source": [
    "cont=covid['Region'].value_counts()\n",
    "cont.idxmin()"
   ]
  },
  {
   "cell_type": "markdown",
   "metadata": {},
   "source": [
    "__Respuesta:__ La región de Arica y Parinacota"
   ]
  },
  {
   "cell_type": "markdown",
   "metadata": {},
   "source": [
    "## Ejercicio 2\n",
    "\n",
    "(2 puntos)\n",
    "\n",
    "1. Define la serie `casos` tal que:\n",
    "    * Solo sean los registros de la región Valparaíso.\n",
    "    * Los _index_ deben ser la _Fecha_ pero en formato `datetime`. Hint: `pd.to_datetime()`\n",
    "    * Los _values_ deben ser los _Casos confirmados_.\n",
    "2. Define la serie `casos_not_null` filtrando los calores `NaN` de la serie `casos`.\n",
    "3. Obtén el mínimo, máximo y suma y promedio de la serie `casos_not_null`."
   ]
  },
  {
   "cell_type": "code",
   "execution_count": 118,
   "metadata": {},
   "outputs": [
    {
     "data": {
      "text/plain": [
       "(49       2020-03-30\n",
       " 50       2020-03-30\n",
       " 51       2020-03-30\n",
       " 52       2020-03-30\n",
       " 53       2020-03-30\n",
       "             ...    \n",
       " 19631    2020-09-28\n",
       " 19632    2020-09-28\n",
       " 19633    2020-09-28\n",
       " 19634    2020-09-28\n",
       " 19635    2020-09-28\n",
       " Name: Fecha, Length: 2145, dtype: object,\n",
       "            Region  Codigo region                  Comuna  Codigo comuna  \\\n",
       " 49     Valparaíso              5               Algarrobo         5602.0   \n",
       " 50     Valparaíso              5                 Cabildo         5402.0   \n",
       " 51     Valparaíso              5                  Calera         5502.0   \n",
       " 52     Valparaíso              5             Calle Larga         5302.0   \n",
       " 53     Valparaíso              5               Cartagena         5603.0   \n",
       " ...           ...            ...                     ...            ...   \n",
       " 19631  Valparaíso              5              Valparaiso         5101.0   \n",
       " 19632  Valparaíso              5           Villa Alemana         5804.0   \n",
       " 19633  Valparaíso              5            Vina del Mar         5109.0   \n",
       " 19634  Valparaíso              5                Zapallar         5405.0   \n",
       " 19635  Valparaíso              5  Desconocido Valparaiso            NaN   \n",
       " \n",
       "        Poblacion       Fecha  Casos confirmados  \n",
       " 49       15174.0  2020-03-30                7.0  \n",
       " 50       20663.0  2020-03-30                0.0  \n",
       " 51       53591.0  2020-03-30                6.0  \n",
       " 52       16482.0  2020-03-30                0.0  \n",
       " 53       25357.0  2020-03-30                0.0  \n",
       " ...          ...         ...                ...  \n",
       " 19631   315732.0  2020-09-28             7020.0  \n",
       " 19632   139310.0  2020-09-28             2583.0  \n",
       " 19633   361371.0  2020-09-28             6701.0  \n",
       " 19634     7994.0  2020-09-28              141.0  \n",
       " 19635        NaN  2020-09-28              449.0  \n",
       " \n",
       " [2145 rows x 7 columns])"
      ]
     },
     "execution_count": 118,
     "metadata": {},
     "output_type": "execute_result"
    }
   ],
   "source": [
    "covid_valpo = covid.query(\"Region =='Valparaíso'\")\n",
    "covid_valpo.loc[:,'Fecha'], covid_valpo"
   ]
  },
  {
   "cell_type": "code",
   "execution_count": 100,
   "metadata": {},
   "outputs": [
    {
     "data": {
      "text/plain": [
       "49      2020-03-30\n",
       "50      2020-03-30\n",
       "51      2020-03-30\n",
       "52      2020-03-30\n",
       "53      2020-03-30\n",
       "           ...    \n",
       "19631   2020-09-28\n",
       "19632   2020-09-28\n",
       "19633   2020-09-28\n",
       "19634   2020-09-28\n",
       "19635   2020-09-28\n",
       "Name: Fecha, Length: 2145, dtype: datetime64[ns]"
      ]
     },
     "execution_count": 100,
     "metadata": {},
     "output_type": "execute_result"
    }
   ],
   "source": [
    "index=covid_valpo.loc[:,'Fecha']\n",
    "indices = pd.to_datetime(covid_valpo.loc[:,'Fecha'], format='%Y-%m-%d')\n",
    "indices"
   ]
  },
  {
   "cell_type": "code",
   "execution_count": 121,
   "metadata": {},
   "outputs": [
    {
     "data": {
      "text/plain": [
       "49          7.0\n",
       "50          0.0\n",
       "51          6.0\n",
       "52          0.0\n",
       "53          0.0\n",
       "          ...  \n",
       "19631    7020.0\n",
       "19632    2583.0\n",
       "19633    6701.0\n",
       "19634     141.0\n",
       "19635     449.0\n",
       "Name: Casos confirmados, Length: 2145, dtype: float64"
      ]
     },
     "execution_count": 121,
     "metadata": {},
     "output_type": "execute_result"
    }
   ],
   "source": [
    "covid_valpo.loc[:,'Casos confirmados']"
   ]
  },
  {
   "cell_type": "code",
   "execution_count": 130,
   "metadata": {},
   "outputs": [
    {
     "data": {
      "text/plain": [
       "Fecha\n",
       "2020-03-30    7.0\n",
       "2020-03-30    0.0\n",
       "2020-03-30    6.0\n",
       "2020-03-30    0.0\n",
       "2020-03-30    0.0\n",
       "dtype: float64"
      ]
     },
     "execution_count": 130,
     "metadata": {},
     "output_type": "execute_result"
    }
   ],
   "source": [
    "covid_valpo = covid.query(\"Region =='Valparaíso'\")\n",
    "indices= pd.to_datetime(covid_valpo.loc[:,'Fecha'], format='%Y-%m-%d')\n",
    "values = covid_valpo.loc[:,'Casos confirmados'].values\n",
    "casos = pd.Series(data=values, index=indices)\n",
    "casos.head()"
   ]
  },
  {
   "cell_type": "code",
   "execution_count": 131,
   "metadata": {},
   "outputs": [
    {
     "data": {
      "text/plain": [
       "Fecha\n",
       "2020-03-30       7.0\n",
       "2020-03-30       0.0\n",
       "2020-03-30       6.0\n",
       "2020-03-30       0.0\n",
       "2020-03-30       0.0\n",
       "               ...  \n",
       "2020-09-28    7020.0\n",
       "2020-09-28    2583.0\n",
       "2020-09-28    6701.0\n",
       "2020-09-28     141.0\n",
       "2020-09-28     449.0\n",
       "Length: 2118, dtype: float64"
      ]
     },
     "execution_count": 131,
     "metadata": {},
     "output_type": "execute_result"
    }
   ],
   "source": [
    "casos_not_null = casos.dropna()\n",
    "casos_not_null"
   ]
  },
  {
   "cell_type": "code",
   "execution_count": 135,
   "metadata": {},
   "outputs": [
    {
     "data": {
      "text/plain": [
       "(790461.0, 373.2110481586402)"
      ]
     },
     "execution_count": 135,
     "metadata": {},
     "output_type": "execute_result"
    }
   ],
   "source": [
    "casos_min = casos_not_null.min()\n",
    "casos_max = casos_not_null.max()\n",
    "casos_sum = casos_not_null.sum()\n",
    "casos_mean = casos_not_null.mean()"
   ]
  },
  {
   "cell_type": "code",
   "execution_count": 136,
   "metadata": {},
   "outputs": [
    {
     "name": "stdout",
     "output_type": "stream",
     "text": [
      "Mínimo casos: 0.0\n",
      "Máximo casos: 7020.0\n",
      "Suma de casos: 790461.0\n",
      "Promedio de casos: 373.2110481586402\n"
     ]
    }
   ],
   "source": [
    "print(f\"Mínimo casos: {casos_min}\")\n",
    "print(f\"Máximo casos: {casos_max}\")\n",
    "print(f\"Suma de casos: {casos_sum}\")\n",
    "print(f\"Promedio de casos: {casos_mean}\")"
   ]
  },
  {
   "cell_type": "markdown",
   "metadata": {},
   "source": [
    "## Ejercicio 3"
   ]
  },
  {
   "cell_type": "markdown",
   "metadata": {},
   "source": [
    "* Define el dataframe  `covid_full` uniendo (`merge`) los dataframes `covid_total` y `covid_death` utilizando la _Fecha_ como _key_ y de tal forma de unir solo los registros que se encuentren en ambos conjuntos de datos. Hint: Escoger sabiamente entre _left_, _right_, _inner_ u _outer join_.\n",
    "* Filtra el dataframe `covid_full` tal que:\n",
    "    - Fechas con por lo menos 1000 casos totales.\n",
    "    - Fechas con por lo menos 100 casos nuevos con síntomas.\n",
    "    - Fechas con más de 20 muertes en el grupo etárea `70-79`.\n",
    "\n",
    "¿Cuál es la fecha máxima y mínima? ¿Cuántos registros quedan finalmente?"
   ]
  },
  {
   "cell_type": "code",
   "execution_count": 4,
   "metadata": {},
   "outputs": [
    {
     "data": {
      "text/html": [
       "<div>\n",
       "<style scoped>\n",
       "    .dataframe tbody tr th:only-of-type {\n",
       "        vertical-align: middle;\n",
       "    }\n",
       "\n",
       "    .dataframe tbody tr th {\n",
       "        vertical-align: top;\n",
       "    }\n",
       "\n",
       "    .dataframe thead th {\n",
       "        text-align: right;\n",
       "    }\n",
       "</style>\n",
       "<table border=\"1\" class=\"dataframe\">\n",
       "  <thead>\n",
       "    <tr style=\"text-align: right;\">\n",
       "      <th></th>\n",
       "      <th>Fecha</th>\n",
       "      <th>Casos nuevos con sintomas</th>\n",
       "      <th>Casos totales</th>\n",
       "    </tr>\n",
       "  </thead>\n",
       "  <tbody>\n",
       "    <tr>\n",
       "      <th>0</th>\n",
       "      <td>2020-03-02</td>\n",
       "      <td>1.0</td>\n",
       "      <td>1.0</td>\n",
       "    </tr>\n",
       "    <tr>\n",
       "      <th>1</th>\n",
       "      <td>2020-03-03</td>\n",
       "      <td>0.0</td>\n",
       "      <td>1.0</td>\n",
       "    </tr>\n",
       "    <tr>\n",
       "      <th>2</th>\n",
       "      <td>2020-03-04</td>\n",
       "      <td>2.0</td>\n",
       "      <td>3.0</td>\n",
       "    </tr>\n",
       "    <tr>\n",
       "      <th>3</th>\n",
       "      <td>2020-03-05</td>\n",
       "      <td>1.0</td>\n",
       "      <td>4.0</td>\n",
       "    </tr>\n",
       "    <tr>\n",
       "      <th>4</th>\n",
       "      <td>2020-03-06</td>\n",
       "      <td>1.0</td>\n",
       "      <td>5.0</td>\n",
       "    </tr>\n",
       "  </tbody>\n",
       "</table>\n",
       "</div>"
      ],
      "text/plain": [
       "        Fecha  Casos nuevos con sintomas  Casos totales\n",
       "0  2020-03-02                        1.0            1.0\n",
       "1  2020-03-03                        0.0            1.0\n",
       "2  2020-03-04                        2.0            3.0\n",
       "3  2020-03-05                        1.0            4.0\n",
       "4  2020-03-06                        1.0            5.0"
      ]
     },
     "execution_count": 4,
     "metadata": {},
     "output_type": "execute_result"
    }
   ],
   "source": [
    "covid_total = pd.read_csv(\"https://raw.githubusercontent.com/MinCiencia/Datos-COVID19/master/output/producto5/TotalesNacionales_T.csv\", usecols=range(3))\n",
    "covid_total.head()"
   ]
  },
  {
   "cell_type": "code",
   "execution_count": 5,
   "metadata": {},
   "outputs": [
    {
     "data": {
      "text/html": [
       "<div>\n",
       "<style scoped>\n",
       "    .dataframe tbody tr th:only-of-type {\n",
       "        vertical-align: middle;\n",
       "    }\n",
       "\n",
       "    .dataframe tbody tr th {\n",
       "        vertical-align: top;\n",
       "    }\n",
       "\n",
       "    .dataframe thead th {\n",
       "        text-align: right;\n",
       "    }\n",
       "</style>\n",
       "<table border=\"1\" class=\"dataframe\">\n",
       "  <thead>\n",
       "    <tr style=\"text-align: right;\">\n",
       "      <th></th>\n",
       "      <th>Fecha</th>\n",
       "      <th>&lt;=39</th>\n",
       "      <th>40-49</th>\n",
       "      <th>50-59</th>\n",
       "      <th>60-69</th>\n",
       "      <th>70-79</th>\n",
       "      <th>80-89</th>\n",
       "      <th>&gt;=90</th>\n",
       "    </tr>\n",
       "  </thead>\n",
       "  <tbody>\n",
       "    <tr>\n",
       "      <th>0</th>\n",
       "      <td>2020-04-09</td>\n",
       "      <td>2</td>\n",
       "      <td>1</td>\n",
       "      <td>1</td>\n",
       "      <td>9</td>\n",
       "      <td>21</td>\n",
       "      <td>19</td>\n",
       "      <td>4</td>\n",
       "    </tr>\n",
       "    <tr>\n",
       "      <th>1</th>\n",
       "      <td>2020-04-10</td>\n",
       "      <td>2</td>\n",
       "      <td>2</td>\n",
       "      <td>2</td>\n",
       "      <td>10</td>\n",
       "      <td>22</td>\n",
       "      <td>21</td>\n",
       "      <td>6</td>\n",
       "    </tr>\n",
       "    <tr>\n",
       "      <th>2</th>\n",
       "      <td>2020-04-11</td>\n",
       "      <td>3</td>\n",
       "      <td>2</td>\n",
       "      <td>2</td>\n",
       "      <td>12</td>\n",
       "      <td>24</td>\n",
       "      <td>24</td>\n",
       "      <td>6</td>\n",
       "    </tr>\n",
       "    <tr>\n",
       "      <th>3</th>\n",
       "      <td>2020-04-12</td>\n",
       "      <td>3</td>\n",
       "      <td>2</td>\n",
       "      <td>3</td>\n",
       "      <td>12</td>\n",
       "      <td>28</td>\n",
       "      <td>25</td>\n",
       "      <td>7</td>\n",
       "    </tr>\n",
       "    <tr>\n",
       "      <th>4</th>\n",
       "      <td>2020-04-13</td>\n",
       "      <td>3</td>\n",
       "      <td>2</td>\n",
       "      <td>3</td>\n",
       "      <td>12</td>\n",
       "      <td>29</td>\n",
       "      <td>26</td>\n",
       "      <td>7</td>\n",
       "    </tr>\n",
       "  </tbody>\n",
       "</table>\n",
       "</div>"
      ],
      "text/plain": [
       "        Fecha  <=39  40-49  50-59  60-69  70-79  80-89  >=90\n",
       "0  2020-04-09     2      1      1      9     21     19     4\n",
       "1  2020-04-10     2      2      2     10     22     21     6\n",
       "2  2020-04-11     3      2      2     12     24     24     6\n",
       "3  2020-04-12     3      2      3     12     28     25     7\n",
       "4  2020-04-13     3      2      3     12     29     26     7"
      ]
     },
     "execution_count": 5,
     "metadata": {},
     "output_type": "execute_result"
    }
   ],
   "source": [
    "covid_death = pd.read_csv(\"https://raw.githubusercontent.com/MinCiencia/Datos-COVID19/master/output/producto10/FallecidosEtario_T.csv\").rename(columns={\"Grupo de edad\": \"Fecha\"})\n",
    "covid_death.head()"
   ]
  },
  {
   "cell_type": "code",
   "execution_count": 6,
   "metadata": {},
   "outputs": [
    {
     "data": {
      "text/html": [
       "<div>\n",
       "<style scoped>\n",
       "    .dataframe tbody tr th:only-of-type {\n",
       "        vertical-align: middle;\n",
       "    }\n",
       "\n",
       "    .dataframe tbody tr th {\n",
       "        vertical-align: top;\n",
       "    }\n",
       "\n",
       "    .dataframe thead th {\n",
       "        text-align: right;\n",
       "    }\n",
       "</style>\n",
       "<table border=\"1\" class=\"dataframe\">\n",
       "  <thead>\n",
       "    <tr style=\"text-align: right;\">\n",
       "      <th></th>\n",
       "      <th>Fecha</th>\n",
       "      <th>Casos nuevos con sintomas</th>\n",
       "      <th>Casos totales</th>\n",
       "      <th>&lt;=39</th>\n",
       "      <th>40-49</th>\n",
       "      <th>50-59</th>\n",
       "      <th>60-69</th>\n",
       "      <th>70-79</th>\n",
       "      <th>80-89</th>\n",
       "      <th>&gt;=90</th>\n",
       "    </tr>\n",
       "  </thead>\n",
       "  <tbody>\n",
       "    <tr>\n",
       "      <th>0</th>\n",
       "      <td>2020-04-09</td>\n",
       "      <td>426.0</td>\n",
       "      <td>5972.0</td>\n",
       "      <td>2</td>\n",
       "      <td>1</td>\n",
       "      <td>1</td>\n",
       "      <td>9</td>\n",
       "      <td>21</td>\n",
       "      <td>19</td>\n",
       "      <td>4</td>\n",
       "    </tr>\n",
       "    <tr>\n",
       "      <th>1</th>\n",
       "      <td>2020-04-10</td>\n",
       "      <td>529.0</td>\n",
       "      <td>6501.0</td>\n",
       "      <td>2</td>\n",
       "      <td>2</td>\n",
       "      <td>2</td>\n",
       "      <td>10</td>\n",
       "      <td>22</td>\n",
       "      <td>21</td>\n",
       "      <td>6</td>\n",
       "    </tr>\n",
       "    <tr>\n",
       "      <th>2</th>\n",
       "      <td>2020-04-11</td>\n",
       "      <td>426.0</td>\n",
       "      <td>6927.0</td>\n",
       "      <td>3</td>\n",
       "      <td>2</td>\n",
       "      <td>2</td>\n",
       "      <td>12</td>\n",
       "      <td>24</td>\n",
       "      <td>24</td>\n",
       "      <td>6</td>\n",
       "    </tr>\n",
       "    <tr>\n",
       "      <th>3</th>\n",
       "      <td>2020-04-12</td>\n",
       "      <td>286.0</td>\n",
       "      <td>7213.0</td>\n",
       "      <td>3</td>\n",
       "      <td>2</td>\n",
       "      <td>3</td>\n",
       "      <td>12</td>\n",
       "      <td>28</td>\n",
       "      <td>25</td>\n",
       "      <td>7</td>\n",
       "    </tr>\n",
       "    <tr>\n",
       "      <th>4</th>\n",
       "      <td>2020-04-13</td>\n",
       "      <td>312.0</td>\n",
       "      <td>7525.0</td>\n",
       "      <td>3</td>\n",
       "      <td>2</td>\n",
       "      <td>3</td>\n",
       "      <td>12</td>\n",
       "      <td>29</td>\n",
       "      <td>26</td>\n",
       "      <td>7</td>\n",
       "    </tr>\n",
       "  </tbody>\n",
       "</table>\n",
       "</div>"
      ],
      "text/plain": [
       "        Fecha  Casos nuevos con sintomas  Casos totales  <=39  40-49  50-59  \\\n",
       "0  2020-04-09                      426.0         5972.0     2      1      1   \n",
       "1  2020-04-10                      529.0         6501.0     2      2      2   \n",
       "2  2020-04-11                      426.0         6927.0     3      2      2   \n",
       "3  2020-04-12                      286.0         7213.0     3      2      3   \n",
       "4  2020-04-13                      312.0         7525.0     3      2      3   \n",
       "\n",
       "   60-69  70-79  80-89  >=90  \n",
       "0      9     21     19     4  \n",
       "1     10     22     21     6  \n",
       "2     12     24     24     6  \n",
       "3     12     28     25     7  \n",
       "4     12     29     26     7  "
      ]
     },
     "execution_count": 6,
     "metadata": {},
     "output_type": "execute_result"
    }
   ],
   "source": [
    "covid_full = pd.merge(covid_total, covid_death, how= 'inner', on=['Fecha'])\n",
    "covid_full.head()"
   ]
  },
  {
   "cell_type": "code",
   "execution_count": 10,
   "metadata": {},
   "outputs": [
    {
     "ename": "AttributeError",
     "evalue": "'function' object has no attribute 'duplicates'",
     "output_type": "error",
     "traceback": [
      "\u001b[1;31m---------------------------------------------------------------------------\u001b[0m",
      "\u001b[1;31mAttributeError\u001b[0m                            Traceback (most recent call last)",
      "\u001b[1;32m<ipython-input-10-c04aec0cc48d>\u001b[0m in \u001b[0;36m<module>\u001b[1;34m\u001b[0m\n\u001b[0;32m      5\u001b[0m \u001b[0mcovid_full_filtered1\u001b[0m \u001b[1;33m=\u001b[0m \u001b[0mpd\u001b[0m\u001b[1;33m.\u001b[0m\u001b[0mmerge\u001b[0m\u001b[1;33m(\u001b[0m\u001b[0mmask1\u001b[0m\u001b[1;33m,\u001b[0m \u001b[0mmask2\u001b[0m\u001b[1;33m,\u001b[0m \u001b[0mhow\u001b[0m\u001b[1;33m=\u001b[0m\u001b[1;34m'outer'\u001b[0m\u001b[1;33m,\u001b[0m \u001b[0mon\u001b[0m\u001b[1;33m=\u001b[0m\u001b[1;33m[\u001b[0m\u001b[1;34m'Fecha'\u001b[0m\u001b[1;33m]\u001b[0m\u001b[1;33m)\u001b[0m\u001b[1;33m\u001b[0m\u001b[1;33m\u001b[0m\u001b[0m\n\u001b[0;32m      6\u001b[0m \u001b[0mcovid_full_filtered\u001b[0m \u001b[1;33m=\u001b[0m \u001b[0mpd\u001b[0m\u001b[1;33m.\u001b[0m\u001b[0mmerge\u001b[0m\u001b[1;33m(\u001b[0m\u001b[0mcovid_full_filtered1\u001b[0m\u001b[1;33m,\u001b[0m \u001b[0mmask3\u001b[0m\u001b[1;33m,\u001b[0m \u001b[0mhow\u001b[0m\u001b[1;33m=\u001b[0m\u001b[1;34m'outer'\u001b[0m\u001b[1;33m,\u001b[0m \u001b[0mon\u001b[0m\u001b[1;33m=\u001b[0m\u001b[1;33m[\u001b[0m\u001b[1;34m'Fecha'\u001b[0m\u001b[1;33m]\u001b[0m\u001b[1;33m)\u001b[0m\u001b[1;33m\u001b[0m\u001b[1;33m\u001b[0m\u001b[0m\n\u001b[1;32m----> 7\u001b[1;33m \u001b[0mcovid_full_filtered\u001b[0m\u001b[1;33m.\u001b[0m\u001b[0mdrop\u001b[0m\u001b[1;33m.\u001b[0m\u001b[0mduplicates\u001b[0m\u001b[1;33m(\u001b[0m\u001b[1;33m)\u001b[0m\u001b[1;33m\u001b[0m\u001b[1;33m\u001b[0m\u001b[0m\n\u001b[0m",
      "\u001b[1;31mAttributeError\u001b[0m: 'function' object has no attribute 'duplicates'"
     ]
    }
   ],
   "source": [
    "mask1 = covid_full[covid_full.loc[:,'Casos totales'].values>=1000]\n",
    "mask2 = covid_full[covid_full.loc[:,'Casos nuevos con sintomas'].values>=100]\n",
    "mask3 = covid_full[covid_full.loc[:,'70-79'].values>20]\n",
    "\n",
    "mask1, mask2, mask3 =covid_full_filtered1[:,'Casos totales']\n",
    "covid_full_filtered = pd.merge(covid_full_filtered1, mask3, how='outer', on=['Fecha'])\n"
   ]
  },
  {
   "cell_type": "code",
   "execution_count": 215,
   "metadata": {},
   "outputs": [
    {
     "data": {
      "text/plain": [
       "('2020-04-09', '2020-10-02', pandas.core.frame.DataFrame)"
      ]
     },
     "execution_count": 215,
     "metadata": {},
     "output_type": "execute_result"
    }
   ],
   "source": [
    "covid_full_filtered.loc[0,'Fecha'], covid_full_filtered.loc[176, 'Fecha'], type(covid_full_filtered)"
   ]
  },
  {
   "cell_type": "code",
   "execution_count": 231,
   "metadata": {},
   "outputs": [
    {
     "name": "stdout",
     "output_type": "stream",
     "text": [
      "Fecha mínima: 2020-04-09\n",
      "Fecha máxima: 2020-10-02\n",
      "Cantidad de registros finalmente: 176\n"
     ]
    }
   ],
   "source": [
    "print(f\"Fecha mínima: {covid_full_filtered.loc[0,'Fecha']}\"),\n",
    "print(f\"Fecha máxima: {covid_full_filtered.loc[176,'Fecha']}\"),\n",
    "print(f\"Cantidad de registros finalmente: {len(covid_full_filtered)-1}\")"
   ]
  }
 ],
 "metadata": {
  "kernelspec": {
   "display_name": "Python 3",
   "language": "python",
   "name": "python3"
  },
  "language_info": {
   "codemirror_mode": {
    "name": "ipython",
    "version": 3
   },
   "file_extension": ".py",
   "mimetype": "text/x-python",
   "name": "python",
   "nbconvert_exporter": "python",
   "pygments_lexer": "ipython3",
   "version": "3.7.8"
  }
 },
 "nbformat": 4,
 "nbformat_minor": 4
}
