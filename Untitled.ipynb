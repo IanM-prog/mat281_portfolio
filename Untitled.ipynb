{
 "cells": [
  {
   "cell_type": "code",
   "execution_count": 4,
   "metadata": {},
   "outputs": [],
   "source": [
    "import numpy as np # linear algebra\n",
    "import pandas as pd # data processing, CSV file I/O (e.g. pd.read_csv)\n",
    "\n",
    "import os\n",
    "import matplotlib.pyplot as plt\n",
    "import matplotlib.style as style\n",
    "\n",
    "# Seaborn Library Setting\n",
    "import seaborn as sns\n",
    "sns.set_style(\"darkgrid\")\n",
    "style.use('seaborn-talk') #sets the size of the charts\n",
    "style.use('ggplot')\n",
    "sns.set_context('talk') # Sets the font of the figures , talk -- presentation-friendly"
   ]
  },
  {
   "cell_type": "code",
   "execution_count": 8,
   "metadata": {},
   "outputs": [
    {
     "data": {
      "text/plain": [
       "0       2013-09-06T18:30:00Z\n",
       "1       2013-06-08T18:30:00Z\n",
       "2       2013-07-30T18:00:00Z\n",
       "3       2013-08-30T08:00:00Z\n",
       "4       2013-05-11T06:30:00Z\n",
       "                ...         \n",
       "1631    2019-10-10T18:11:00Z\n",
       "1632    2019-06-28T17:33:00Z\n",
       "1633                     NaN\n",
       "1634                     NaN\n",
       "1635                     NaN\n",
       "Name: Extinguished, Length: 1636, dtype: object"
      ]
     },
     "execution_count": 8,
     "metadata": {},
     "output_type": "execute_result"
    }
   ],
   "source": [
    "# Read data file and create pandas data frame\n",
    "df= pd.read_csv(os.path.join(\"\", \"data\", \"California_Fire_Incidents.csv\"))\n",
    "df[\"Extinguished\"]"
   ]
  }
 ],
 "metadata": {
  "kernelspec": {
   "display_name": "Python 3",
   "language": "python",
   "name": "python3"
  },
  "language_info": {
   "codemirror_mode": {
    "name": "ipython",
    "version": 3
   },
   "file_extension": ".py",
   "mimetype": "text/x-python",
   "name": "python",
   "nbconvert_exporter": "python",
   "pygments_lexer": "ipython3",
   "version": "3.7.8"
  }
 },
 "nbformat": 4,
 "nbformat_minor": 4
}
